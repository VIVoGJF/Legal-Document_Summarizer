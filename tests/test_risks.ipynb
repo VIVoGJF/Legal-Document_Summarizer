{
 "cells": [
  {
   "cell_type": "code",
   "execution_count": 1,
   "id": "124b7875",
   "metadata": {},
   "outputs": [
    {
     "name": "stdout",
     "output_type": "stream",
     "text": [
      "{'Termination & Breach': ['r courses in regular mid-semester Examination to avoid overlappi.ng with the schedule for Backlog/Improv', '30 minutes before starting of the examination to avoid last movement rush in the gate checking. All entr'], 'Confidentiality & Disclosure': ['en below: I. Students must secure minimum 75% attendance in all courses to become eligible to appear m'], 'Liability & Indemnification': ['y any type of theft. The School does NOT hold any responsibility to identify /track the victim in case any theft/'], 'Dispute Resolution (Indian Context)': ['e@kiit.ac.in, if any student does not receive the venue details. The detailed timing for different activi']}\n"
     ]
    }
   ],
   "source": [
    "import sys\n",
    "from pathlib import Path\n",
    "\n",
    "base = Path.cwd().parent\n",
    "sys.path.append(str(base))\n",
    "\n",
    "from core.extraction import extract_text_from_pdf, extract_text_pages\n",
    "from core.risks import analyze_risks\n",
    "\n",
    "\n",
    "sample_pdf = base / \"data\" / \"input_docs\" / \"kiit_doc.pdf\"\n",
    "\n",
    "if not sample_pdf.exists():\n",
    "    print(\"Please add a file named kiit_doc.pdf inside data/input_docs/ before running this test.\")\n",
    "else:\n",
    "    \n",
    "    text = extract_text_from_pdf(sample_pdf, use_ocr=True)\n",
    "    #print(text[:1500])  # Print first 1500 characters of extracted text \n",
    "\n",
    "    risks = analyze_risks(text)\n",
    "    print(risks)"
   ]
  }
 ],
 "metadata": {
  "kernelspec": {
   "display_name": "venv",
   "language": "python",
   "name": "python3"
  },
  "language_info": {
   "codemirror_mode": {
    "name": "ipython",
    "version": 3
   },
   "file_extension": ".py",
   "mimetype": "text/x-python",
   "name": "python",
   "nbconvert_exporter": "python",
   "pygments_lexer": "ipython3",
   "version": "3.13.3"
  }
 },
 "nbformat": 4,
 "nbformat_minor": 5
}
