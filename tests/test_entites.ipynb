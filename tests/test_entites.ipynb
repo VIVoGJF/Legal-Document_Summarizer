{
 "cells": [
  {
   "cell_type": "code",
   "execution_count": 3,
   "id": "6f824e69",
   "metadata": {},
   "outputs": [
    {
     "name": "stdout",
     "output_type": "stream",
     "text": [
      "{'Parties': ['KALINGA INSTITUTE OF INDUSTRIAL TECHNOLOGY', 'KUT Identity Card', 'I. Students', 'KUT', 'Deemed', 'Examination', 'Asst', 'Exam Schedule', 'C-Block', 'CoE', 'UI', 'Smart', 'the Examination Hall', 'KIIT Deemed', 'KUT Deemed', 'KIIT', 'Examination Hall', 'CCTV', 'C-Block Lobby', 'School', 'Institution of Eminence l>', 'Sheet Deposit', 'Gracie', 'Backlog/Improvement', 'IET', 'of2 of2\\n', 'the C-Block Lobby', 'KIIT-DU', 'Controller of Examinations', 'Mid-Semester', 'Email', 'Hall', 'Kalinga Institute of Industrial Technology', '• Bags', 'Examination Hall Entry', 'director.csit@kiit.ac.in', 'Copy', 'NBA', 'School of\\nComputer Engineering', 'School of Computer Engineering'], 'Dates': ['<b>UGC Act 1956) Ref No: KIIT-DU/SCOMP/148 /25 Date: 01/09/2025 NOTICE Sub: Instructions for Autumn-2025 Mid-Seme:</b> 01/09/2025', '<b>ference the Controller of Examinations letter dtd.16/08/25, Rsl0,000/- shall be imposed on possession of mob:</b> 16/08/25', '<b>V. The schedule of Examination will start before 5 days of commencement of End-semester Examinations. VI.:</b> 5 days'], 'Money/Penalties': ['Not specified'], 'Obligations': ['shall']}\n"
     ]
    }
   ],
   "source": [
    "import sys\n",
    "from pathlib import Path\n",
    "\n",
    "base = Path.cwd().parent\n",
    "sys.path.append(str(base))\n",
    "\n",
    "from core.extraction import extract_text_from_pdf, extract_text_pages\n",
    "from core.entities import extract_entities\n",
    "\n",
    "\n",
    "sample_pdf = base / \"data\" / \"input_docs\" / \"kiit_doc.pdf\"\n",
    "\n",
    "if not sample_pdf.exists():\n",
    "    print(\"Please add a file named kiit_doc.pdf inside data/input_docs/ before running this test.\")\n",
    "else:\n",
    "    \n",
    "    text = extract_text_from_pdf(sample_pdf, use_ocr=True)\n",
    "    #print(text[:1500])  # Print first 1500 characters of extracted text \n",
    "\n",
    "    entities = extract_entities(text)\n",
    "    print(entities)\n"
   ]
  }
 ],
 "metadata": {
  "kernelspec": {
   "display_name": "venv",
   "language": "python",
   "name": "python3"
  },
  "language_info": {
   "codemirror_mode": {
    "name": "ipython",
    "version": 3
   },
   "file_extension": ".py",
   "mimetype": "text/x-python",
   "name": "python",
   "nbconvert_exporter": "python",
   "pygments_lexer": "ipython3",
   "version": "3.13.3"
  }
 },
 "nbformat": 4,
 "nbformat_minor": 5
}
